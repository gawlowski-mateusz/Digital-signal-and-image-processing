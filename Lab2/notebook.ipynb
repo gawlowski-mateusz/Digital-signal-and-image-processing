{
 "cells": [
  {
   "cell_type": "markdown",
   "metadata": {},
   "source": [
    "# Wprowadzenie\n",
    "\n",
    "<p>Autorzy: Mateusz Gawłowski, Katarzyna Matuszek</p>\n",
    "<p> Drugie laboratoria z kursu dotyczyły przetwarzania i filtrowania obrazów. Dokładny przebieg rozwiązywania zadań oraz wyniki przedstawione zostały w dalszej częsci dokumentu.</p>\n",
    "\n",
    "## Przetwarzanie i filtrowanie obrazów - wprowadzenie teoretyczne\n",
    "\n",
    "### 1. Przekształcenia punktowe\n",
    "Przekształcenia punktowe to operacje wykonywane na pojedynczych pikselach obrazu, niezależnie od ich sąsiadów. Każdy piksel obrazu wyjściowego jest wynikiem przekształcenia piksela obrazu wejściowego według określonej funkcji.\n",
    "\n",
    "- **Mnożenie przez stałą (T(r) = c * r)**: Każdy piksel obrazu jest mnożony przez stałą wartość \\( c \\). To przekształcenie zmienia jasność obrazu, przyciemniając go (c < 1) lub rozjaśniając (c > 1).\n",
    "  \n",
    "- **Transformacja logarytmiczna (T(r) = c * log(1 + r))**: Zwiększa dynamikę niskich wartości poziomów szarości i kompresuje wysokie wartości. Przydatna do wizualizacji obrazów o szerokim zakresie dynamiki.\n",
    "\n",
    "- **Zmiana dynamiki skali szarości**: Wzór \\( T(r) = \\frac{1}{1 + (m/r)^e} \\) zmienia kontrast obrazu. Parametry \\( m \\) i \\( e \\) kontrolują kształt krzywej przekształcenia, co wpływa na stopień kontrastu.\n",
    "  \n",
    "- **Korekcja gamma (s = c * r^γ)**: Przekształcenie polegające na podnoszeniu wartości piksela do potęgi \\( γ \\). Używana do poprawy kontrastu obrazów. Parametr \\( γ \\) wpływa na jasność: \\( γ < 1 \\) rozjaśnia, \\( γ > 1 \\) przyciemnia obraz.\n",
    "\n",
    "### 2. Histogram obrazu\n",
    "Histogram obrazu przedstawia rozkład częstotliwości poziomów szarości w obrazie. Analiza histogramu pozwala ocenić ogólną charakterystykę jasności i kontrastu obrazu.\n",
    "\n",
    "- **Wyrównywanie histogramu**: Proces ten redistribuuje wartości intensywności pikseli, aby histogram obrazu stał się bardziej płaski. Poprawia kontrast, szczególnie w obrazach z niskim kontrastem.\n",
    "\n",
    "- **Lokalne wyrównywanie histogramu**: Podobne do globalnego wyrównywania, ale operacja jest wykonywana na mniejszych, lokalnych regionach obrazu, co pozwala na lepsze dostosowanie kontrastu w różnych częściach obrazu.\n",
    "\n",
    "### 3. Filtracja dolnoprzepustowa\n",
    "Filtracja dolnoprzepustowa wygładza obraz, redukując wysokie częstotliwości, które zwykle odpowiadają za szum i ostre krawędzie.\n",
    "\n",
    "- **Liniowy filtr uśredniający**: Każdy piksel jest zastępowany średnią wartością pikseli w jego otoczeniu. Rozmiar maski (np. 3x3) wpływa na stopień wygładzania.\n",
    "\n",
    "- **Filtr medianowy**: Nieliniowy filtr, który zastępuje każdy piksel medianą wartości pikseli w jego otoczeniu. Jest skuteczny w usuwaniu szumu typu \"sól i pieprz\".\n",
    "\n",
    "- **Filtry minimum i maksimum**: Zastępują wartość piksela odpowiednio najmniejszą lub największą wartością z jego sąsiedztwa. Filtr minimum jest używany do usuwania jasnych szumów, a filtr maksimum - ciemnych.\n",
    "\n",
    "### 4. Filtracja górnoprzepustowa\n",
    "Filtracja górnoprzepustowa podkreśla krawędzie i szczegóły obrazu, przepuszczając wysokie częstotliwości.\n",
    "\n",
    "- **Filtr Sobela**: Używany do wykrywania krawędzi w kierunkach poziomym, pionowym i ukośnym. Operuje na macierzach różniczkowych, podkreślając miejsca o dużej zmianie intensywności.\n",
    "\n",
    "- **Laplasjan**: Filtr drugi rzędu, który podkreśla miejsca, gdzie następuje gwałtowna zmiana intensywności (krawędzie). Jest stosowany do wyostrzania szczegółów.\n",
    "\n",
    "- **Unsharp masking i high boost**: Techniki wyostrzania obrazu polegające na wzmocnieniu różnicy między oryginalnym obrazem a jego rozmytą wersją. High boost zwiększa kontrast jeszcze bardziej niż unsharp masking.\n",
    "\n",
    "### 5. Poprawa jakości poprzez wieloetapowe przetwarzanie\n",
    "Wieloetapowe przetwarzanie łączy różne metody przekształcania i filtrowania w celu uzyskania lepszego efektu końcowego. Na przykład można najpierw wygładzić obraz, a następnie wyostrzyć jego krawędzie, by uzyskać czysty i wyraźny efekt końcowy.\n",
    "\n",
    "Dokument sugeruje praktyczne zastosowanie tych metod przy użyciu oprogramowania Python lub Matlab, umożliwiającego manipulację i analizę obrazów za pomocą odpowiednich skryptów.\n",
    "\n"
   ]
  },
  {
   "cell_type": "markdown",
   "metadata": {},
   "source": [
    "</p>\n",
    "\n",
    "## Biblioteki niezbędne do obróbki obrazów\n",
    "\n",
    "<p>Aby rozpocząć pracę nad analizą sygnałów EKG, najpierw należało załadować odpowiednie biblioteki</p>"
   ]
  },
  {
   "cell_type": "code",
   "execution_count": 45,
   "metadata": {},
   "outputs": [],
   "source": [
    "import tkinter.filedialog\n",
    "import cv2\n",
    "import matplotlib.pyplot as plt\n",
    "import numpy as np\n",
    "from PIL import Image"
   ]
  },
  {
   "cell_type": "markdown",
   "metadata": {},
   "source": [
    "<p>Wykorzystane biblioteki:</p>\n",
    "\n",
    "<ol>\n",
    "  <li>\n",
    "    <strong>tkinter.filedialog</strong>:\n",
    "    <br>\n",
    "    Biblioteka tkinter.filedialog dostarcza interfejs do dialogów otwierania i zapisywania plików w bibliotece Tkinter, która jest standardowym interfejsem GUI (graficznego interfejsu użytkownika) dla języka Python. Pozwala użytkownikowi wybrać pliki z systemu plików za pomocą interaktywnych okien dialogowych.\n",
    "    <br><br>\n",
    "  </li>\n",
    "  \n",
    "  <li>\n",
    "    <strong>cv2</strong> (OpenCV):\n",
    "    <br>\n",
    "    OpenCV (Open Source Computer Vision Library) to biblioteka do przetwarzania obrazów i analizy danych wizyjnych. <code>cv2</code> to interfejs Pythona dla OpenCV, który umożliwia zaawansowane operacje na obrazach, takie jak wczytywanie, przetwarzanie, analiza i manipulacje nimi, a także wiele algorytmów wizyjnych.\n",
    "    <br><br>\n",
    "  </li>\n",
    "  \n",
    "  <li>\n",
    "    <strong>matplotlib.pyplot</strong>:\n",
    "    <br>\n",
    "    Matplotlib to biblioteka służąca do tworzenia wykresów i wizualizacji danych w Pythonie. <code>matplotlib.pyplot</code> to podmoduł Matplotlib, który zapewnia interfejs podobny do tego znanego z MATLABa, umożliwiający tworzenie różnego rodzaju wykresów i diagramów.\n",
    "    <br><br>\n",
    "  </li>\n",
    "  \n",
    "  <li>\n",
    "    <strong>numpy</strong>:\n",
    "    <br>\n",
    "    NumPy to biblioteka do obliczeń numerycznych w Pythonie. Zapewnia wydajne obliczenia na dużych zbiorach danych numerycznych, w tym tablice wielowymiarowe (arrays) oraz wiele przydatnych funkcji do operacji na tych tablicach.\n",
    "    <br><br>\n",
    "  </li>\n",
    "  \n",
    "  <li>\n",
    "    <strong>PIL</strong> (Python Imaging Library):\n",
    "    <br>\n",
    "    PIL (lub Pillow) to biblioteka do manipulacji obrazami w Pythonie. Pozwala na otwieranie, manipulowanie i zapisywanie różnych formatów obrazów, takich jak JPEG, PNG, GIF, itp. <code>Image</code> to moduł w bibliotece PIL umożliwiający manipulację obrazami, takie jak skalowanie, rotacja, konwersja formatów itp.\n",
    "    <br><br>\n",
    "  </li>\n",
    "</ol>\n",
    "\n"
   ]
  },
  {
   "cell_type": "markdown",
   "metadata": {},
   "source": [
    "# Ćwiczenie 5: Wczytywanie i wizualizacja obrazów oraz operacje na obrazach\n",
    "\n",
    "Celem ćwiczenia było napisanie skryptu w języku Python umożliwiającego przeprowadzenie następujących operacji na badanych obrazach:\n",
    "\n",
    "1. **Wczytywanie i wizualizacja obrazów**:\n",
    "   - Program powinien umożliwiać wczytanie obrazu z pliku o podanej nazwie i wyświetlenie go w interfejsie użytkownika.\n",
    "\n",
    "2. **Sporządzanie wykresów zmian poziomu szarości wzdłuż wybranej linii**:\n",
    "   - Użytkownik powinien mieć możliwość wyboru linii poziomej lub pionowej oraz zadania jej współrzędnych.\n",
    "   - Program powinien obliczyć zmiany poziomu szarości wzdłuż wybranej linii i sporządzić wykres tych zmian.\n",
    "\n",
    "3. **Wybór podobrazu i zapis do pliku**:\n",
    "   - Użytkownik powinien móc wybrać prostokątny obszar na obrazie, podając jego współrzędne.\n",
    "   - Program powinien umożliwić zapisanie wybranego podobrazu do pliku o zadanej nazwie."
   ]
  },
  {
   "cell_type": "markdown",
   "metadata": {},
   "source": [
    "## Kod programu:"
   ]
  },
  {
   "cell_type": "markdown",
   "metadata": {},
   "source": [
    "<p>Przedstawiony poniżej fragment kodu odpowiada za wczytanie z katalogu obrazu, na którym będą wykonywane dalsze operacje.</p>"
   ]
  },
  {
   "cell_type": "code",
   "execution_count": 33,
   "metadata": {},
   "outputs": [],
   "source": [
    "def read_file():\n",
    "    window = tkinter.Tk()\n",
    "    window.wm_attributes('-topmost', 1)\n",
    "    window.withdraw()\n",
    "    file_path = tkinter.filedialog.askopenfilename()\n",
    "\n",
    "    return file_path"
   ]
  },
  {
   "cell_type": "markdown",
   "metadata": {},
   "source": [
    "<p>Fragment kodu odpowiedzialny za wyświetlenie obrazu z wczytanego pliku:</p>"
   ]
  },
  {
   "cell_type": "code",
   "execution_count": 34,
   "metadata": {},
   "outputs": [],
   "source": [
    "def open_image(file_path):\n",
    "    if file_path is None:\n",
    "        print(\"File path is null\")\n",
    "    else:\n",
    "        image = Image.open(file_path)\n",
    "        arr_image = np.asarray(image)\n",
    "\n",
    "        plt.imshow(arr_image, cmap='gray', vmin=0, vmax=255)\n",
    "        plt.show()"
   ]
  },
  {
   "cell_type": "markdown",
   "metadata": {},
   "source": [
    "<p>Fragment kodu odpowiedzialny za sporządzenie wykresu zmian poziomu szarości wzdłuż wybranej linii:</p>\n"
   ]
  },
  {
   "cell_type": "code",
   "execution_count": 35,
   "metadata": {},
   "outputs": [],
   "source": [
    "def draw_gray_plot(file_path):\n",
    "    # Opening the image from the selected file\n",
    "    image = Image.open(file_path).convert(\"L\")\n",
    "    # Loading the image into an array\n",
    "    arr_image = np.asarray(image)\n",
    "    # Determining the size of the image\n",
    "    width, height = image.size\n",
    "\n",
    "    # Choosing the line option\n",
    "    print(\"Plot:\\n\"\n",
    "          \"[1] From horizontal line\\n\"\n",
    "          \"[2] From vertical line\")\n",
    "\n",
    "    choose = int(input(\"Your choice: \"))\n",
    "\n",
    "    if choose == 1:\n",
    "        y = int(input(\"Enter y (0,\" + str(height - 1) + \") \"))\n",
    "        # Saving the pixel values from the specified horizontal line into an array\n",
    "        one_gray_line_array = arr_image[y, :]\n",
    "    elif choose == 2:\n",
    "        x = int(input(\"Enter x (0,\" + str(width - 1) + \") \"))\n",
    "        # Saving the pixel values from the specified vertical line into an array\n",
    "        one_gray_line_array = arr_image[:, x]\n",
    "\n",
    "    plt.figure(figsize=(15, 10))\n",
    "\n",
    "    plt.subplot(1, 2, 1)\n",
    "    plt.title('Image')\n",
    "    plt.imshow(arr_image, cmap='gray', vmin=0, vmax=255)\n",
    "\n",
    "    plt.subplot(1, 2, 2)\n",
    "    plt.plot(one_gray_line_array, 'b')\n",
    "    plt.title('Gray level changes plot')\n",
    "    plt.xlabel('Pixel number')\n",
    "    plt.ylabel('Gray level')\n",
    "    plt.show()"
   ]
  },
  {
   "cell_type": "markdown",
   "metadata": {},
   "source": [
    "<p>Poniżej przedstawiono także przykładowy rezultat wywyłania powyższego kodu. Przedstawia on kolejno obraz testowy oraz wykres szarości poprowadzony względem linii poziomej na współrzędnej y=400.</p>\n",
    "\n",
    "![cw5img1](../assets/Lab2/cw5img1.png)"
   ]
  },
  {
   "cell_type": "markdown",
   "metadata": {},
   "source": [
    "<p>Fragment kodu odpowiedzialny za wybór podobrazu i zapis do pliku:</p>"
   ]
  },
  {
   "cell_type": "code",
   "execution_count": 36,
   "metadata": {},
   "outputs": [],
   "source": [
    "def snipping_area(file_path):\n",
    "    # Opening the image from the selected file\n",
    "    image = Image.open(file_path).convert('RGB')\n",
    "    # Loading the image into an array\n",
    "    arr_image = np.asarray(image)\n",
    "    # Determining the size of the image\n",
    "    width, height = image.size\n",
    "\n",
    "    print(\"Enter the starting point of the snip: \")\n",
    "    y1 = int(input(\"Enter x1 (0,\" + str(height - 1) + \") \"))\n",
    "    x1 = int(input(\"Enter y1 (0,\" + str(width - 1) + \") \"))\n",
    "    print(\"Enter the ending point of the snip: \")\n",
    "    y2 = int(input(\"Enter x2 (0,\" + str(height - 1) + \") \"))\n",
    "    x2 = int(input(\"Enter y2 (0,\" + str(width - 1) + \") \"))\n",
    "\n",
    "    # Creating an array of appropriate size\n",
    "    arr_snipping_area = numpy.zeros((x2 - x1, y2 - y1, 3), dtype=np.uint8)\n",
    "\n",
    "    # Snipping the appropriate fragment into the array\n",
    "    for i in range(x2 - x1):\n",
    "        for j in range(y2 - y1):\n",
    "            arr_snipping_area[i, j] = arr_image[x1 + i, y1 + j]\n",
    "\n",
    "    plt.figure(figsize=(15, 10))\n",
    "\n",
    "    plt.subplot(1, 2, 1)\n",
    "    plt.title('Image')\n",
    "    plt.imshow(arr_image, cmap='gray', vmin=0, vmax=255)\n",
    "\n",
    "    plt.subplot(1, 2, 2)\n",
    "    plt.title('Snipped image')\n",
    "    plt.imshow(arr_snipping_area, cmap='gray', vmin=0, vmax=255)\n",
    "\n",
    "    plt.show()\n",
    "    new_image = Image.fromarray(arr_snipping_area, 'RGB')\n",
    "    new_image.save('new.png')\n",
    "    new_image.show()"
   ]
  },
  {
   "cell_type": "markdown",
   "metadata": {},
   "source": [
    "# Ćwiczenie 6: Obserwacja działania przekształceń punktowych na obrazach\n",
    "\n",
    "## Zakres operacji:\n",
    "\n",
    "1. **Mnożenie obrazu przez stałą:**\n",
    "   - Transformacja o postaci \\( T(r) = c \\cdot r \\), gdzie \\( c \\) jest stałą.\n",
    "   - Przeanalizowanie efektu tego przekształcenia na obrazach: `chest_xray.tif`, `pollen-dark.tif`, `spectrum.tif`.\n",
    "\n",
    "2. **Transformacja logarytmiczna:**\n",
    "   - Transformacja o postaci \\( T(r) = c \\cdot \\log(1 + r) \\).\n",
    "   - Przeanalizowanie efektu tego przekształcenia na obrazie: `spectrum.tif`.\n",
    "\n",
    "3. **Zmiana dynamiki skali szarości (kontrastu):**\n",
    "   - Transformacja o postaci \\( T(r) = \\frac{1}{1 + (\\frac{m}{r})^e} \\), gdzie \\( m \\) i \\( e \\) są ustalonymi parametrami przekształcenia (np. \\( m = 0,45 \\), \\( e = 8 \\)).\n",
    "   - Przeanalizowanie efektu tej transformacji na obrazach: `chest_xray.tif`, `einstein-low-contrast.tif`, `pollen-lowcontrast.tif`.\n",
    "   - Sporządzenie wykresu \\( T(r) \\) w celu lepszego uwidocznienia wpływu transformacji na kontrast obrazu wyjściowego.\n",
    "   - Eksperymentowanie z różnymi wartościami parametrów \\( m \\) i \\( e \\).\n",
    "\n",
    "4. **Korekcja gamma:**\n",
    "   - Transformacja zdefiniowana jako \\( s = c \\cdot r^\\gamma \\), gdzie \\( c > 0 \\) i \\( \\gamma > 0 \\) są stałymi we wzorze przekształcenia.\n",
    "   - Przeanalizowanie efektu tego przekształcenia na obrazie: `aerial_view.tif`.\n",
    "\n",
    "## Funkcjonalności:\n",
    "Program powinien umożliwiać użytkownikowi:\n",
    "   - Wczytanie wybranych obrazów z plików.\n",
    "   - Zastosowanie wybranych przekształceń punktowych.\n",
    "   - Wizualizację przekształconych obrazów.\n",
    "   - Eksperymentowanie z różnymi parametrami przekształceń i obserwowanie ich wpływu na jakość oraz kontrast obrazu."
   ]
  },
  {
   "cell_type": "markdown",
   "metadata": {},
   "source": [
    "## Kod programu:"
   ]
  },
  {
   "cell_type": "markdown",
   "metadata": {},
   "source": [
    "<p>Przedstawiony poniżej fragment kodu odpowiada za wczytanie z katalogu obrazu, na którym będą wykonywane dalsze operacje.</p>"
   ]
  },
  {
   "cell_type": "code",
   "execution_count": null,
   "metadata": {},
   "outputs": [],
   "source": [
    "def read_file():\n",
    "    window = tkinter.Tk()\n",
    "    window.wm_attributes('-topmost', 1)\n",
    "    window.withdraw()\n",
    "    file_path = tkinter.filedialog.askopenfilename()\n",
    "\n",
    "    return file_path"
   ]
  },
  {
   "cell_type": "markdown",
   "metadata": {},
   "source": [
    "<p>Fragment kodu odpowiedzialny za mnożenie obrazu przez stałą:</p>"
   ]
  },
  {
   "cell_type": "code",
   "execution_count": 46,
   "metadata": {},
   "outputs": [],
   "source": [
    "def multiplication_by_constant(file_path):\n",
    "    image = Image.open(file_path).convert('L')\n",
    "    arr_image = np.asarray(image)\n",
    "    c = float(input(\"Enter constant c: \"))\n",
    "    new_image = arr_image * c\n",
    "\n",
    "    plt.subplot(1, 2, 1)\n",
    "    plt.title('Image')\n",
    "    plt.imshow(arr_image, cmap='gray', vmin=0, vmax=255)\n",
    "\n",
    "    plt.subplot(1, 2, 2)\n",
    "    plt.title('Image after multiplication by constant ' + str(c))\n",
    "    plt.imshow(new_image, cmap='gray', vmin=0, vmax=255)\n",
    "\n",
    "    plt.show()"
   ]
  },
  {
   "cell_type": "markdown",
   "metadata": {},
   "source": [
    "<p>Poniżej przedstawiono rezultat wywyłania powyższego kodu. Przedstawia on kolejno oryginalny obraz - obraz  wejściowy oraz obraz wyjściowy powstały po przemnożeniu macierzy pikseli obrazu wejściowego przy użyciu wzoru (T(r) = c * r); c=2.0. Jak można zauważyć, obraz w zauważalny sposób się rozjaśnił, a co za tym idzie, uwydatniły się jego mniej zauważalne szczegóły.</p>\n",
    "\n",
    "![cw6img1](../assets/Lab2/cw6img1.png)"
   ]
  },
  {
   "cell_type": "markdown",
   "metadata": {},
   "source": [
    "<p>Fragment kodu odpowiedzialny za transformację logarytmiczną:</p>"
   ]
  },
  {
   "cell_type": "code",
   "execution_count": 47,
   "metadata": {},
   "outputs": [],
   "source": [
    "def logarithmic_transformation(file_path):\n",
    "    image = Image.open(file_path).convert('L')\n",
    "    arr_image = np.asarray(image)\n",
    "    c = float(input(\"Enter constant c: \"))\n",
    "\n",
    "    # Apply logarithmic transformation\n",
    "    # np.log1p is used for log(1 + r)\n",
    "    new_image = c * np.log1p(arr_image)\n",
    "\n",
    "    plt.figure(figsize=(15, 10))\n",
    "    \n",
    "    plt.subplot(1, 2, 1)\n",
    "    plt.title('Original Image')\n",
    "    plt.imshow(arr_image, cmap='gray', vmin=0, vmax=255)\n",
    "\n",
    "    plt.subplot(1, 2, 2)\n",
    "    plt.title('Logarithmic Transformation')\n",
    "    plt.imshow(new_image, cmap='gray', vmin=0, vmax=255)\n",
    "\n",
    "    plt.show()"
   ]
  },
  {
   "cell_type": "markdown",
   "metadata": {},
   "source": [
    "<p>Poniżej przedstawiono rezultat wywyłania powyższego kodu. Przedstawia on kolejno oryginalny obraz - obraz  wejściowy oraz obraz wyjściowy powstały po przemnożeniu macierzy pikseli obrazu wejściowego poprzez logarytm (T(r) = c * log(1 + r)) ze stałą c=20.0. Jak można zauważyć, po transformacji logarytmicznej uwydatniły się jego niezauważalne szczegóły.</p>\n",
    "\n",
    "![cw6img2](../assets/Lab2/cw6img2.png)"
   ]
  },
  {
   "cell_type": "markdown",
   "metadata": {},
   "source": [
    "<p>Fragment kodu odpowiedzialny za zmianę dynamiki skali szarości:</p>"
   ]
  },
  {
   "cell_type": "code",
   "execution_count": 48,
   "metadata": {},
   "outputs": [],
   "source": [
    "def dynamics_of_grayscale(file_path):\n",
    "    image = Image.open(file_path).convert('L')\n",
    "    arr_image = np.asarray(image)\n",
    "    width, height = image.size\n",
    "\n",
    "    m = 0.35\n",
    "    e = 8.0\n",
    "\n",
    "    new_arr_image = np.full_like(arr_image, 0)\n",
    "\n",
    "    for i in range(height - 1):\n",
    "        for j in range(width - 1):\n",
    "            if arr_image[i, j] == 0:\n",
    "                new_arr_image[i, j] = arr_image[i, j]\n",
    "            else:\n",
    "                new_arr_image[i, j] = (255.0 / (1.0 + (m / (arr_image[i, j] / 255.0)) ** e))\n",
    "\n",
    "    plt.subplot(1, 2, 1)\n",
    "    plt.title('Image')\n",
    "    plt.imshow(arr_image, cmap='gray', vmin=0, vmax=255)\n",
    "\n",
    "    plt.subplot(1, 2, 2)\n",
    "    plt.title('m = ' + str(m) + ', e = ' + str(e))\n",
    "    plt.imshow(new_arr_image, cmap='gray', vmin=0, vmax=255)\n",
    "\n",
    "    plt.show()"
   ]
  },
  {
   "cell_type": "markdown",
   "metadata": {},
   "source": [
    "<p>Poniżej przedstawiono rezultat wywyłania powyższego kodu. Przedstawia on kolejno oryginalny obraz - obraz  wejściowy oraz obraz wyjściowy powstały po zastosowaniu dynamini szarości. Jak można zauważyć, za sprawą filtra, uwydatniły się jego niezauważalne szczegóły.</p>\n",
    "\n",
    "![cw6img3](../assets/Lab2/cw6img3.png)"
   ]
  },
  {
   "cell_type": "markdown",
   "metadata": {},
   "source": [
    "<p>Fragment kodu odpowiedzialny za korekcję gamma:</p>"
   ]
  },
  {
   "cell_type": "code",
   "execution_count": 49,
   "metadata": {},
   "outputs": [],
   "source": [
    "def gamma_correction(file_path):\n",
    "    image = Image.open(file_path).convert('L')\n",
    "    arr_image = np.asarray(image)\n",
    "    width, height = image.size\n",
    "\n",
    "    y = 1.5\n",
    "    c = 0.5\n",
    "\n",
    "    new_arr_image = np.full_like(arr_image, 0)\n",
    "    new_arr_image = (arr_image ** y) * c\n",
    "\n",
    "    plt.figure(figsize=(15, 10))\n",
    "    plt.subplot(1, 2, 1)\n",
    "    plt.title('Image')\n",
    "    plt.imshow(arr_image, cmap='gray', vmin=0, vmax=255)\n",
    "\n",
    "    plt.subplot(1, 2, 2)\n",
    "    plt.title('y = ' + str(y) + ', c = ' + str(c))\n",
    "    plt.imshow(new_arr_image, cmap='gray', vmin=0, vmax=255)\n",
    "\n",
    "    plt.show()"
   ]
  },
  {
   "cell_type": "markdown",
   "metadata": {},
   "source": [
    "<p>Poniżej przedstawiono rezultat wywyłania powyższego kodu. Przedstawia on kolejno oryginalny obraz - obraz  wejściowy oraz obraz wyjściowy powstały po zastosowaniu korekcji gamma. Jak można zauważyć, na obrazie wyjściowym w znaczący sposób poprawił się kontrast obiektów, poprzez co stały się one znacznie bardziej zauważalne.</p>\n",
    "\n",
    "![cw6img4](../assets/Lab2/cw6img4.png)"
   ]
  },
  {
   "cell_type": "markdown",
   "metadata": {},
   "source": [
    "# Ćwiczenie 7: Wyrównywanie histogramu na obrazach\n",
    "\n",
    "## Zakres operacji:\n",
    "\n",
    "1. **Wczytywanie obrazów:**\n",
    "   - Program powinien umożliwiać wczytanie obrazów z plików.\n",
    "\n",
    "2. **Wyrównywanie histogramu:**\n",
    "   - Przeprowadzenie wyrównywania histogramu na obrazach zbyt ciemnych i zbyt jasnych.\n",
    "   - Zastosowanie wyrównywania histogramu w celu poprawienia jakości obrazu.\n",
    "\n",
    "3. **Porównanie histogramów przed i po wyrównaniu:**\n",
    "   - Narysowanie histogramów obrazów przed wyrównaniem, aby zidentyfikować problemy z rozkładem jasności.\n",
    "   - Narysowanie histogramów obrazów po wyrównaniu, aby zobaczyć efekty wyrównywania.\n",
    "\n",
    "## Funkcjonalności:\n",
    "Program powinien umożliwiać użytkownikowi:\n",
    "   - Wczytanie wybranych obrazów z plików.\n",
    "   - Zastosowanie procedury wyrównywania histogramu na zbyt ciemnych i zbyt jasnych obrazach.\n",
    "   - Wizualizację histogramów przed i po wyrównaniu, aby obserwować skuteczność procedury.\n",
    "\n",
    "## Przykładowe obrazy do analizy:\n",
    "   - `chest_xray.tif`\n",
    "   - `pollen-dark.tif`\n",
    "   - `pollen-ligt.tif`\n",
    "   - `pollen-lowcontrast.tif`\n",
    "   - `pout.tif`\n",
    "   - `spectrum.tif`"
   ]
  },
  {
   "cell_type": "markdown",
   "metadata": {},
   "source": [
    "## Kod programu:"
   ]
  },
  {
   "cell_type": "markdown",
   "metadata": {},
   "source": [
    "<p>Przedstawiony poniżej fragment kodu odpowiada za wczytanie z katalogu obrazu, na którym będą wykonywane dalsze operacje.</p>"
   ]
  },
  {
   "cell_type": "code",
   "execution_count": null,
   "metadata": {},
   "outputs": [],
   "source": [
    "def read_file():\n",
    "    window = tkinter.Tk()\n",
    "    window.wm_attributes('-topmost', 1)\n",
    "    window.withdraw()\n",
    "    file_path = tkinter.filedialog.askopenfilename()\n",
    "\n",
    "    return file_path"
   ]
  },
  {
   "cell_type": "markdown",
   "metadata": {},
   "source": [
    "<p>Fragment kodu odpowiedzialny za wyrównywanie histogramu obrazu:</p>"
   ]
  },
  {
   "cell_type": "code",
   "execution_count": null,
   "metadata": {},
   "outputs": [],
   "source": [
    "def aligning_the_histogram(file_path):\n",
    "    # Open the image from the selected file\n",
    "    image = Image.open(file_path).convert('L')\n",
    "    # Load the image into an array\n",
    "    arr_image = np.asarray(image)\n",
    "    # Determine the size of the image\n",
    "    width, height = image.size\n",
    "\n",
    "    # Create a 256-element array filled with zeros\n",
    "    image_histogram = numpy.zeros(256, dtype=int)\n",
    "\n",
    "    # Calculate how many pixels have a given value 0-255\n",
    "    for i in range(height - 1):\n",
    "        for j in range(width - 1):\n",
    "            image_histogram[arr_image[i, j]] += 1\n",
    "\n",
    "    # Create an array of empirical cumulative distribution functions\n",
    "    distributor = numpy.zeros(256, dtype=float)\n",
    "\n",
    "    # Calculate the number of pixels on the screen\n",
    "    number_of_pixels = width * height\n",
    "\n",
    "    # Calculate the cumulative distribution\n",
    "    sum_gray = 0.0\n",
    "    for i in range(255):\n",
    "        sum_gray += (image_histogram[i] / number_of_pixels)\n",
    "        distributor[i] += sum_gray\n",
    "\n",
    "    d0min = int(0)\n",
    "    for i in range(255):\n",
    "        if distributor[i] != 0:\n",
    "            break\n",
    "        else:\n",
    "            d0min += 1\n",
    "\n",
    "    # Create the LUC table\n",
    "    luc_table = numpy.zeros(256, dtype=float)\n",
    "\n",
    "    for i in range(256):\n",
    "        luc_table[i] = int(((distributor[i] - distributor[d0min]) / (1 - distributor[d0min])) * (256 - 1))\n",
    "\n",
    "    # Create an array the size of the image\n",
    "    new_arr_image = numpy.full_like(arr_image, 0)\n",
    "\n",
    "    # Algorithm for selecting pixels for the new image\n",
    "    for i in range(height - 1):\n",
    "        for j in range(width - 1):\n",
    "            new_arr_image[i, j] = luc_table[arr_image[i, j]]\n",
    "\n",
    "    # Create an array for the new histogram\n",
    "    new_image_histogram = numpy.zeros(256, dtype=int)\n",
    "\n",
    "    for i in range(height - 1):\n",
    "        for j in range(width - 1):\n",
    "            new_image_histogram[new_arr_image[i, j]] += 1\n",
    "\n",
    "    # Create plots\n",
    "    plt.figure(figsize=(15, 10))\n",
    "\n",
    "    plt.subplot(2, 2, 1)\n",
    "    plt.title('Image')\n",
    "    plt.imshow(arr_image, cmap='gray', vmin=0, vmax=255)\n",
    "\n",
    "    plt.subplot(2, 2, 2)\n",
    "    plt.title(\"Image Histogram\")\n",
    "    plt.plot(image_histogram, 'b')\n",
    "\n",
    "    plt.subplot(2, 2, 3)\n",
    "    plt.title('Image after Histogram Equalization')\n",
    "    plt.imshow(new_arr_image, cmap='gray', vmin=0, vmax=255)\n",
    "\n",
    "    plt.subplot(2, 2, 4)\n",
    "    plt.title(\"Image Histogram\")\n",
    "    plt.plot(new_image_histogram, 'b')\n",
    "\n",
    "    plt.show()"
   ]
  },
  {
   "cell_type": "markdown",
   "metadata": {},
   "source": [
    "<p>\n",
    "Przyczyna zastosowania filtracji\n",
    "Początkowy obraz jest ciemny z niskim kontrastem, co utrudnia dostrzeżenie szczegółów. Histogram tego obrazu pokazuje, że większość pikseli ma niskie wartości jasności.\n",
    "\n",
    "Wyrównanie histogramu jest stosowane w celu poprawy kontrastu obrazu. Rozkłada ono wartości intensywności bardziej równomiernie na całym zakresie, co sprawia, że detale stają się bardziej widoczne.\n",
    "\n",
    "#### Efekt po zastosowaniu wyrównania histogramu\n",
    "1. **Zwiększony kontrast**: Histogram wyrównanego obrazu jest bardziej równomiernie rozłożony, co oznacza, że więcej wartości jasności jest reprezentowanych.\n",
    "2. **Lepsza widoczność detali**: Detale, które wcześniej były słabo widoczne, są teraz bardziej wyraźne, co można zauważyć porównując oba obrazy.\n",
    "\n",
    "Podsumowując, wyrównanie histogramu znacząco poprawia jakość obrazu poprzez uwidocznienie szczegółów i zwiększenie kontrastu. </p>\n",
    "\n",
    "![cw7img1](../assets/Lab2/cw7img1.png)"
   ]
  },
  {
   "cell_type": "markdown",
   "metadata": {},
   "source": [
    "<p>Fragment kodu odpowiedzialny za uruchomienie głównej funkcji programu:</p>"
   ]
  },
  {
   "cell_type": "code",
   "execution_count": null,
   "metadata": {},
   "outputs": [],
   "source": [
    "def main():\n",
    "    file_path = read_file()\n",
    "\n",
    "    if file_path:\n",
    "        print(\"Running Histogram Equalization...\")\n",
    "        aligning_the_histogram(file_path)\n",
    "    else:\n",
    "        print(\"No file selected\")\n",
    "\n",
    "if __name__ == \"__main__\":\n",
    "    main()"
   ]
  },
  {
   "cell_type": "markdown",
   "metadata": {},
   "source": [
    "# Ćwiczenie 8: Sprawdzenie działania lokalnych kontekstowych transformacji poziomu jasności\n",
    "\n",
    "## Zakres operacji:\n",
    "\n",
    "1. **Lokalne wyrównywanie histogramu:**\n",
    "   - Przeprowadzenie lokalnego wyrównywania histogramu na obrazie `hidden-symbols.tif`.\n",
    "   - Eksperymentowanie z różnymi rozmiarami masek, aby zobaczyć, jak wpływają one na efekt wyrównywania.\n",
    "\n",
    "2. **Poprawa jakości oparta na lokalnych statystykach:**\n",
    "   - Zastosowanie technik poprawy jakości obrazu opartych na lokalnych statystykach do obrazu `hidden-symbols.tif`.\n",
    "   - Przeprowadzanie eksperymentów z różnymi rozmiarami masek, aby ocenić ich wpływ na poprawę jakości obrazu.\n",
    "\n",
    "## Funkcjonalności:\n",
    "Program powinien umożliwiać użytkownikowi:\n",
    "   - Wczytanie obrazu `hidden-symbols.tif`.\n",
    "   - Zastosowanie lokalnego wyrównywania histogramu przy użyciu różnych rozmiarów masek.\n",
    "   - Zastosowanie metod poprawy jakości opartych na lokalnych statystykach przy użyciu różnych rozmiarów masek.\n",
    "   - Wizualizację wyników, aby porównać efekty różnych rozmiarów masek i technik poprawy jakości obrazu."
   ]
  },
  {
   "cell_type": "markdown",
   "metadata": {},
   "source": [
    "## Kod programu:"
   ]
  },
  {
   "cell_type": "markdown",
   "metadata": {},
   "source": [
    "<p>Przedstawiony poniżej fragment kodu odpowiada za wczytanie z katalogu obrazu, na którym będą wykonywane dalsze operacje.</p>"
   ]
  },
  {
   "cell_type": "code",
   "execution_count": 52,
   "metadata": {},
   "outputs": [],
   "source": [
    "def read_file():\n",
    "    import tkinter.filedialog\n",
    "    import tkinter as tk\n",
    "\n",
    "    window = tk.Tk()\n",
    "    window.wm_attributes('-topmost', 1)\n",
    "    window.withdraw()\n",
    "    file_path = tkinter.filedialog.askopenfilename()\n",
    "\n",
    "    return file_path"
   ]
  },
  {
   "cell_type": "markdown",
   "metadata": {},
   "source": [
    "<p>Fragment kodu odpowiedzialny za lokalne wyrównywanie histogramu obrazu:</p>"
   ]
  },
  {
   "cell_type": "code",
   "execution_count": null,
   "metadata": {},
   "outputs": [],
   "source": [
    "def local_histogram_equalization(arr_image):\n",
    "    # Local histogram equalization\n",
    "    clahe = cv2.createCLAHE(clipLimit=2.0, tileGridSize=(8, 8))\n",
    "    equalized_image = clahe.apply(arr_image)\n",
    "\n",
    "    plt.figure(figsize=(12, 6))\n",
    "\n",
    "    plt.subplot(1, 2, 1)\n",
    "    plt.imshow(arr_image, cmap='gray')\n",
    "    plt.title('Original Image')\n",
    "\n",
    "    plt.subplot(1, 2, 2)\n",
    "    plt.imshow(equalized_image, cmap='gray')\n",
    "    plt.title('Local Histogram Equalization')\n",
    "\n",
    "    plt.show()"
   ]
  },
  {
   "cell_type": "markdown",
   "metadata": {},
   "source": [
    "<p>Przyczyna zastosowania filtracji\n",
    "Początkowy obraz zawiera kilka ciemnych obszarów z niskim kontrastem, co utrudnia dostrzeżenie szczegółów. Celem jest poprawa widoczności tych szczegółów poprzez lokalne wyrównanie histogramu.\n",
    "\n",
    "Lokalne wyrównanie histogramu (CLAHE - Contrast Limited Adaptive Histogram Equalization) ma na celu poprawę kontrastu w małych fragmentach obrazu, co pozwala na uwidocznienie detali, które mogłyby zostać pominięte przy globalnym wyrównaniu histogramu.\n",
    "\n",
    "Efekt po zastosowaniu lokalnego wyrównania histogramu\n",
    "1. **Zwiększony kontrast lokalny**: Wyrównany obraz ma lepszy kontrast w małych regionach, co sprawia, że detale w tych regionach stają się bardziej widoczne.\n",
    "2. **Lepsza widoczność detali**: Obiekty i struktury, które były wcześniej mało widoczne, są teraz lepiej uwidocznione.\n",
    "\n",
    "Na załączonym obrazie widać dwa obrazy:\n",
    "- **Obraz oryginalny** (po lewej stronie) jest ciemny z niskim kontrastem.\n",
    "- **Obraz po lokalnym wyrównaniu histogramu** (po prawej stronie) ma bardziej równomiernie rozłożone wartości jasności, co skutkuje lepszą widocznością szczegółów.\n",
    "\n",
    "W skrócie, lokalne wyrównanie histogramu znacząco poprawia jakość obrazu poprzez uwidocznienie szczegółów i zwiększenie kontrastu w lokalnych obszarach, co jest szczególnie korzystne w przypadku obrazów o dużych różnicach jasności w różnych regionach. </p>\n",
    "\n",
    "![cw8img1](../assets/Lab2/cw8img1.png)"
   ]
  },
  {
   "cell_type": "markdown",
   "metadata": {},
   "source": [
    "<p>Fragment kodu odpowiedzialny za poprawę jakości obrazu opartą na lokalnych statystykach:</p>"
   ]
  },
  {
   "cell_type": "code",
   "execution_count": null,
   "metadata": {},
   "outputs": [],
   "source": [
    "def local_statistics_based_enhancement(arr_image):\n",
    "    # Local statistics-based enhancement\n",
    "    kernel = np.ones((5, 5), np.float32) / 25\n",
    "    smoothed_image = cv2.filter2D(arr_image, -1, kernel)\n",
    "    enhanced_image = cv2.addWeighted(arr_image, 1.5, smoothed_image, -0.5, 0)\n",
    "\n",
    "    plt.figure(figsize=(12, 6))\n",
    "\n",
    "    plt.subplot(1, 2, 1)\n",
    "    plt.imshow(arr_image, cmap='gray')\n",
    "    plt.title('Original Image')\n",
    "\n",
    "    plt.subplot(1, 2, 2)\n",
    "    plt.imshow(enhanced_image, cmap='gray')\n",
    "    plt.title('Local Statistics-Based Enhancement')\n",
    "\n",
    "    plt.show()"
   ]
  },
  {
   "cell_type": "markdown",
   "metadata": {},
   "source": [
    "<p>Początkowy obraz zawiera kilka ciemnych obszarów z niskim kontrastem, co utrudnia dostrzeżenie szczegółów. Celem jest poprawa widoczności tych szczegółów poprzez lokalne wyrównanie histogramu.\n",
    "\n",
    "Poprawa jakości obrazu oparta na lokalnych statysykach ma na celu poprawę kontrastu w małych fragmentach obrazu, co pozwala na uwidocznienie detali, które mogłyby zostać pominięte przy globalnym wyrównaniu histogramu.\n",
    "\n",
    "Efekt po zastosowaniu filtra opartego o lokalne statystyki\n",
    "1. **Zwiększony kontrast lokalny**: Wyrównany obraz ma lepszy kontrast w małych regionach, co sprawia, że detale w tych regionach stają się bardziej widoczne.\n",
    "2. **Lepsza widoczność detali**: Obiekty i struktury, które były wcześniej mało widoczne, są teraz lepiej uwidocznione.\n",
    "\n",
    "Na załączonym obrazie widać dwa obrazy:\n",
    "- **Obraz oryginalny** (po lewej stronie) jest ciemny z niskim kontrastem.\n",
    "- **Obraz po lokalnym wyrównaniu histogramu** (po prawej stronie) ma bardziej równomiernie rozłożone wartości jasności, co skutkuje lepszą widocznością szczegółów.\n",
    "\n",
    "Podsumowując, lokalne wyrównanie histogramu znacząco poprawia jakość obrazu poprzez uwidocznienie szczegółów i zwiększenie kontrastu w lokalnych obszarach, co jest szczególnie korzystne w przypadku obrazów o dużych różnicach jasności w różnych regionach.</p>\n",
    "\n",
    "![cw8img2](../assets/Lab2/cw8img2.png)"
   ]
  },
  {
   "cell_type": "markdown",
   "metadata": {},
   "source": [
    "<p>Fragment kodu odpowiedzialny za uruchomienie głównej funkcji programu:</p>"
   ]
  },
  {
   "cell_type": "code",
   "execution_count": null,
   "metadata": {},
   "outputs": [],
   "source": [
    "def main():\n",
    "    file_path = read_file()\n",
    "\n",
    "    if file_path:\n",
    "        image = cv2.imread(file_path, cv2.IMREAD_GRAYSCALE)\n",
    "\n",
    "        print(\"Choose an option:\")\n",
    "        print(\"[1] Local Histogram Equalization\")\n",
    "        print(\"[2] Local Statistics-Based Enhancement\")\n",
    "\n",
    "        choice = int(input(\"Your choice: \"))\n",
    "\n",
    "        if choice == 1:\n",
    "            local_histogram_equalization(image)\n",
    "        elif choice == 2:\n",
    "            local_statistics_based_enhancement(image)\n",
    "        else:\n",
    "            print(\"Invalid choice\")\n",
    "    else:\n",
    "        print(\"No file selected\")\n",
    "\n",
    "if __name__ == \"__main__\":\n",
    "    main()"
   ]
  },
  {
   "cell_type": "markdown",
   "metadata": {},
   "source": [
    "# Ćwiczenie 9: Redukcja szumu typu \"sól i pieprz\"\n",
    "\n",
    "## Zakres operacji:\n",
    "\n",
    "1. **Redukcja szumu za pomocą liniowego filtra uśredniającego:**\n",
    "   - Zastosowanie liniowego filtra uśredniającego z kwadratową maską, rozpoczynając od maski o rozmiarze 3x3.\n",
    "   - Badanie skuteczności redukcji szumu \"sól i pieprz\".\n",
    "\n",
    "2. **Redukcja szumu za pomocą nieliniowego filtra medianowego:**\n",
    "   - Zastosowanie nieliniowego filtra medianowego do redukcji szumu.\n",
    "   - Ocena skuteczności filtra medianowego w usuwaniu szumu \"sól i pieprz\".\n",
    "\n",
    "3. **Redukcja szumu za pomocą filtrów minimum i maksimum:**\n",
    "   - Zastosowanie filtrów minimum i maksimum do redukcji szumu.\n",
    "   - Porównanie skuteczności tych filtrów w usuwaniu szumu typu \"sól i pieprz\".\n",
    "\n",
    "## Funkcjonalności:\n",
    "Program powinien umożliwiać użytkownikowi:\n",
    "   - Wczytanie obrazu zawierającego szum typu \"sól i pieprz\".\n",
    "   - Zastosowanie różnych metod redukcji szumu.\n",
    "   - Porównanie efektów redukcji szumu za pomocą liniowego filtra uśredniającego, nieliniowego filtra medianowego oraz filtrów minimum i maksimum."
   ]
  },
  {
   "cell_type": "markdown",
   "metadata": {},
   "source": [
    "## Kod programu:"
   ]
  },
  {
   "cell_type": "markdown",
   "metadata": {},
   "source": [
    "<p>Przedstawiony poniżej fragment kodu odpowiada za wczytanie z katalogu obrazu, na którym będą wykonywane dalsze operacje.</p>"
   ]
  },
  {
   "cell_type": "code",
   "execution_count": null,
   "metadata": {},
   "outputs": [],
   "source": [
    "def read_file():\n",
    "    import tkinter.filedialog\n",
    "    import tkinter as tk\n",
    "\n",
    "    window = tk.Tk()\n",
    "    window.wm_attributes('-topmost', 1)\n",
    "    window.withdraw()\n",
    "    file_path = tkinter.filedialog.askopenfilename()\n",
    "\n",
    "    return file_path"
   ]
  },
  {
   "cell_type": "markdown",
   "metadata": {},
   "source": [
    "<p>Redukcja szumu typu \"sól i pieprz\" za pomocą liniowego filtra uśredniającego z kwadratową maską</p>"
   ]
  },
  {
   "cell_type": "code",
   "execution_count": null,
   "metadata": {},
   "outputs": [],
   "source": [
    "def square_mask_filter(arr_image_salt_pepper):\n",
    "    # Filtering with a square mask\n",
    "    new_image_mask_3x3 = cv2.blur(arr_image_salt_pepper, (3, 3))\n",
    "    new_image_mask_9x9 = cv2.blur(arr_image_salt_pepper, (9, 9))\n",
    "    new_image_mask_15x15 = cv2.blur(arr_image_salt_pepper, (15, 15))\n",
    "\n",
    "    plt.subplot(2, 3, 4)\n",
    "    plt.title('\"Salt and Pepper\" Noise, 3x3 Mask')\n",
    "    plt.imshow(new_image_mask_3x3, cmap='gray', vmin=0, vmax=255)\n",
    "\n",
    "    plt.subplot(2, 3, 5)\n",
    "    plt.title('\"Salt and Pepper\" Noise, 9x9 Mask')\n",
    "    plt.imshow(new_image_mask_9x9, cmap='gray', vmin=0, vmax=255)\n",
    "\n",
    "    plt.subplot(2, 3, 6)\n",
    "    plt.title('\"Salt and Pepper\" Noise, 15x15 Mask')\n",
    "    plt.imshow(new_image_mask_15x15, cmap='gray', vmin=0, vmax=255)\n",
    "\n",
    "    plt.suptitle(\"Averaging Filter with Square Mask\", fontsize=16)\n",
    "    plt.show()"
   ]
  },
  {
   "cell_type": "markdown",
   "metadata": {},
   "source": [
    "<p>Początkowy obraz jest stosunkowo gładki i jednorodny, ale zawiera pewne zakłócenia w postaci szumu sól, co utrudnia dostrzeżenie rzeczywistych szczegółów. Celem jest usunięcie tego szumu i poprawa widoczności detali poprzez zastosowanie filtrów.\n",
    "\n",
    "Efekt po zastosowaniu filtrów:\n",
    "**Filtr uśredniający z kwadratową maską**: Obraz po zastosowaniu filtracji średniej jest bardziej jednorodny, a szum sol i pieprz jest zredukowany, choć niektóre drobne szczegóły mogą zostać lekko rozmyte.\n",
    "\n",
    "Na załączonym obrazie widać kilka wersji obrazów:\n",
    "- **Obraz oryginalny** (w lewym górnym rogu) zawiera szum sól, co utrudnia jego analizę.\n",
    "- **Obraz po zastosowaniu filtrów** (w kolejnych panelach) pokazuje, jak każdy filtr wpływa na usunięcie szumu i zmianę jakości obrazu.</p>\n",
    "\n",
    "![cw9img1](../assets/Lab2/cw9img1.png)"
   ]
  },
  {
   "cell_type": "markdown",
   "metadata": {},
   "source": [
    "<p>Początkowy obraz jest stosunkowo gładki i jednorodny, ale zawiera pewne zakłócenia w postaci szumu pieprz, co utrudnia dostrzeżenie rzeczywistych szczegółów. Celem jest usunięcie tego szumu i poprawa widoczności detali poprzez zastosowanie filtrów.\n",
    "\n",
    "Efekt po zastosowaniu filtrów:\n",
    "**Filtr uśredniający z kwadratową maską**: Obraz po zastosowaniu filtracji średniej jest bardziej jednorodny, a szum sol i pieprz jest zredukowany, choć niektóre drobne szczegóły mogą zostać lekko rozmyte.\n",
    "\n",
    "Na załączonym obrazie widać kilka wersji obrazów:\n",
    "- **Obraz oryginalny** (w lewym górnym rogu) zawiera szum pieprz, co utrudnia jego analizę.\n",
    "- **Obraz po zastosowaniu filtrów** (w kolejnych panelach) pokazuje, jak każdy filtr wpływa na usunięcie szumu i zmianę jakości obrazu.</p>\n",
    "\n",
    "![cw9img2](../assets/Lab2/cw9img2.png)"
   ]
  },
  {
   "cell_type": "markdown",
   "metadata": {},
   "source": [
    "<p>Redukcja szumu typu \"sól i pieprz\" za pomocą nieliniowego filtra medianowego:</p>"
   ]
  },
  {
   "cell_type": "code",
   "execution_count": null,
   "metadata": {},
   "outputs": [],
   "source": [
    "def nonlinear_median_filter(arr_image_salt_pepper):\n",
    "    # Median filtering\n",
    "    new_image_salt_pepper = np.array(arr_image_salt_pepper, dtype=np.uint8)\n",
    "    new_image_mask_3x3 = cv2.medianBlur(new_image_salt_pepper, 3)\n",
    "    new_image_mask_9x9 = cv2.medianBlur(new_image_salt_pepper, 9)\n",
    "    new_image_mask_15x15 = cv2.medianBlur(new_image_salt_pepper, 15)\n",
    "\n",
    "    plt.subplot(2, 3, 4)\n",
    "    plt.title('\"Salt and Pepper\" Noise, 3x3 Mask')\n",
    "    plt.imshow(new_image_mask_3x3, cmap='gray', vmin=0, vmax=255)\n",
    "\n",
    "    plt.subplot(2, 3, 5)\n",
    "    plt.title('\"Salt and Pepper\" Noise, 9x9 Mask')\n",
    "    plt.imshow(new_image_mask_9x9, cmap='gray', vmin=0, vmax=255)\n",
    "\n",
    "    plt.subplot(2, 3, 6)\n",
    "    plt.title('\"Salt and Pepper\" Noise, 15x15 Mask')\n",
    "    plt.imshow(new_image_mask_15x15, cmap='gray', vmin=0, vmax=255)\n",
    "\n",
    "    plt.suptitle(\"Median Filtering\", fontsize=16)\n",
    "    plt.show()"
   ]
  },
  {
   "cell_type": "markdown",
   "metadata": {},
   "source": [
    "<p>Początkowy obraz jest stosunkowo gładki i jednorodny, ale zawiera pewne zakłócenia w postaci szumu sól, co utrudnia dostrzeżenie rzeczywistych szczegółów. Celem jest usunięcie tego szumu i poprawa widoczności detali poprzez zastosowanie filtrów.\n",
    "\n",
    "Efekt po zastosowaniu filtrów:\n",
    "**Nieliniowy filtr medianowy**: Obraz po zastosowaniu filtra medianowego skutecznie usuwa szum sol i pieprz, zachowując jednocześnie ostrość i detale.\n",
    "\n",
    "Na załączonym obrazie widać kilka wersji obrazów:\n",
    "- **Obraz oryginalny** (w lewym górnym rogu) zawiera szum sól, co utrudnia jego analizę.\n",
    "- **Obraz po zastosowaniu filtrów** (w kolejnych panelach) pokazuje, jak każdy filtr wpływa na usunięcie szumu i zmianę jakości obrazu.</p>\n",
    "\n",
    "![cw9img3](../assets/Lab2/cw9img3.png)"
   ]
  },
  {
   "cell_type": "markdown",
   "metadata": {},
   "source": [
    "<p>Początkowy obraz jest stosunkowo gładki i jednorodny, ale zawiera pewne zakłócenia w postaci szumu pieprz, co utrudnia dostrzeżenie rzeczywistych szczegółów. Celem jest usunięcie tego szumu i poprawa widoczności detali poprzez zastosowanie filtrów.\n",
    "\n",
    "Efekt po zastosowaniu filtrów:\n",
    "**Nieliniowy filtr medianowy**: Obraz po zastosowaniu filtra medianowego skutecznie usuwa szum sol i pieprz, zachowując jednocześnie ostrość i detale.\n",
    "\n",
    "Na załączonym obrazie widać kilka wersji obrazów:\n",
    "- **Obraz oryginalny** (w lewym górnym rogu) zawiera szum pieprz, co utrudnia jego analizę.\n",
    "- **Obraz po zastosowaniu filtrów** (w kolejnych panelach) pokazuje, jak każdy filtr wpływa na usunięcie szumu i zmianę jakości obrazu.</p>\n",
    "\n",
    "![cw9img4](../assets/Lab2/cw9img4.png)"
   ]
  },
  {
   "cell_type": "markdown",
   "metadata": {},
   "source": [
    "<p>Redukcja szumu typu \"sól i pieprz\" za pomocą filtrów minimum:</p>"
   ]
  },
  {
   "cell_type": "code",
   "execution_count": null,
   "metadata": {},
   "outputs": [],
   "source": [
    "def minimum_filter(arr_image_salt_pepper):\n",
    "    # Applying minimum filter\n",
    "    min_filtered_3x3 = cv2.erode(arr_image_salt_pepper, np.ones((3, 3)))\n",
    "    min_filtered_5x5 = cv2.erode(arr_image_salt_pepper, np.ones((5, 5)))\n",
    "    min_filtered_7x7 = cv2.erode(arr_image_salt_pepper, np.ones((7, 7)))\n",
    "\n",
    "    plt.subplot(2, 3, 4)\n",
    "    plt.title('\"Salt and Pepper\" Noise, 3x3 Minimum Filter')\n",
    "    plt.imshow(min_filtered_3x3, cmap='gray', vmin=0, vmax=255)\n",
    "\n",
    "    plt.subplot(2, 3, 5)\n",
    "    plt.title('\"Salt and Pepper\" Noise, 5x5 Minimum Filter')\n",
    "    plt.imshow(min_filtered_5x5, cmap='gray', vmin=0, vmax=255)\n",
    "\n",
    "    plt.subplot(2, 3, 6)\n",
    "    plt.title('\"Salt and Pepper\" Noise, 7x7 Minimum Filter')\n",
    "    plt.imshow(min_filtered_7x7, cmap='gray', vmin=0, vmax=255)\n",
    "\n",
    "    plt.suptitle(\"Minimum Filtering\", fontsize=16)\n",
    "    plt.show()"
   ]
  },
  {
   "cell_type": "markdown",
   "metadata": {},
   "source": [
    "<p>Poniżej przedstawiono rezultat wywyłania powyższego kodu. Przedstawia on obraz oryginalny testowy oraz obraz po zastosowaniu filtra minimum z kwadratowymi maskami 3x3, 9x9, 15x15 - opercje dla obrazu z szumami typu \"sól\". </p>\n",
    "\n",
    "![cw9img5](../assets/Lab2/cw9img5.png)"
   ]
  },
  {
   "cell_type": "markdown",
   "metadata": {},
   "source": [
    "<p>Początkowy obraz jest stosunkowo gładki i jednorodny, ale zawiera pewne zakłócenia w postaci szumu pieprz, co utrudnia dostrzeżenie rzeczywistych szczegółów. Celem jest usunięcie tego szumu i poprawa widoczności detali poprzez zastosowanie filtrów.\n",
    "\n",
    "Efekt po zastosowaniu filtrów:\n",
    "**Filtr minimalny**: Obraz po zastosowaniu filtra minimalnego usuwa jasne punkty szumu, ale może stać się ciemniejszy.\n",
    "\n",
    "Na załączonym obrazie widać kilka wersji obrazów:\n",
    "- **Obraz oryginalny** (w lewym górnym rogu) zawiera szum pieprz, co utrudnia jego analizę.\n",
    "- **Obraz po zastosowaniu filtrów** (w kolejnych panelach) pokazuje, jak każdy filtr wpływa na usunięcie szumu i zmianę jakości obrazu.\n",
    "\n",
    "Jak widać na poniższym przykładzie, zastosowanie filtra w znaczący sposób jednak pogorszyło jakość obrazu, co udowadnia, że zastosowanie złego filtra do danej sytuacji, może przynieść całkowicie odrwotne efekty.</p>\n",
    "\n",
    "![cw9img6](../assets/Lab2/cw9img6.png)"
   ]
  },
  {
   "cell_type": "markdown",
   "metadata": {},
   "source": [
    "<p>Redukcja szumu typu \"sól i pieprz\" za pomocą filtrów maximum:</p>"
   ]
  },
  {
   "cell_type": "code",
   "execution_count": null,
   "metadata": {},
   "outputs": [],
   "source": [
    "def maximum_filter(arr_image_salt_pepper):\n",
    "    # Applying maximum filter\n",
    "    max_filtered_3x3 = cv2.dilate(arr_image_salt_pepper, np.ones((3, 3)))\n",
    "    max_filtered_5x5 = cv2.dilate(arr_image_salt_pepper, np.ones((5, 5)))\n",
    "    max_filtered_7x7 = cv2.dilate(arr_image_salt_pepper, np.ones((7, 7)))\n",
    "\n",
    "    plt.subplot(2, 3, 4)\n",
    "    plt.title('\"Salt and Pepper\" Noise, 3x3 Maximum Filter')\n",
    "    plt.imshow(max_filtered_3x3, cmap='gray', vmin=0, vmax=255)\n",
    "\n",
    "    plt.subplot(2, 3, 5)\n",
    "    plt.title('\"Salt and Pepper\" Noise, 5x5 Maximum Filter')\n",
    "    plt.imshow(max_filtered_5x5, cmap='gray', vmin=0, vmax=255)\n",
    "\n",
    "    plt.subplot(2, 3, 6)\n",
    "    plt.title('\"Salt and Pepper\" Noise, 7x7 Maximum Filter')\n",
    "    plt.imshow(max_filtered_7x7, cmap='gray', vmin=0, vmax=255)\n",
    "\n",
    "    plt.suptitle(\"Maximum Filtering\", fontsize=16)\n",
    "    plt.show()"
   ]
  },
  {
   "cell_type": "markdown",
   "metadata": {},
   "source": [
    "<p>Początkowy obraz jest stosunkowo gładki i jednorodny, ale zawiera pewne zakłócenia w postaci szumu sól, co utrudnia dostrzeżenie rzeczywistych szczegółów. Celem jest usunięcie tego szumu i poprawa widoczności detali poprzez zastosowanie filtrów.\n",
    "\n",
    "Efekt po zastosowaniu filtrów:\n",
    "**Filtr maksymalny**: Obraz po zastosowaniu filtra maksymalnego usuwa ciemne punkty szumu, ale może stać się jaśniejszy.\n",
    "\n",
    "Na załączonym obrazie widać kilka wersji obrazów:\n",
    "- **Obraz oryginalny** (w lewym górnym rogu) zawiera szum sól, co utrudnia jego analizę.\n",
    "- **Obraz po zastosowaniu filtrów** (w kolejnych panelach) pokazuje, jak każdy filtr wpływa na usunięcie szumu i zmianę jakości obrazu.\n",
    "\n",
    "Jak widać na poniższym przykładzie, zastosowanie filtra w znaczący sposób jednak pogorszyło jakość obrazu, co udowadnia, że zastosowanie złego filtra do danej sytuacji, może przynieść całkowicie odrwotne efekty.</p>\n",
    "\n",
    "![cw9img7](../assets/Lab2/cw9img7.png)"
   ]
  },
  {
   "cell_type": "markdown",
   "metadata": {},
   "source": [
    "<p>Początkowy obraz jest stosunkowo gładki i jednorodny, ale zawiera pewne zakłócenia w postaci szumu pieprz, co utrudnia dostrzeżenie rzeczywistych szczegółów. Celem jest usunięcie tego szumu i poprawa widoczności detali poprzez zastosowanie filtrów.\n",
    "\n",
    "Efekt po zastosowaniu filtrów:\n",
    "**Filtr maksymalny**: Obraz po zastosowaniu filtra maksymalnego usuwa ciemne punkty szumu, ale może stać się jaśniejszy.\n",
    "\n",
    "Na załączonym obrazie widać kilka wersji obrazów:\n",
    "- **Obraz oryginalny** (w lewym górnym rogu) zawiera szum pieprz, co utrudnia jego analizę.\n",
    "- **Obraz po zastosowaniu filtrów** (w kolejnych panelach) pokazuje, jak każdy filtr wpływa na usunięcie szumu i zmianę jakości obrazu.</p>\n",
    "\n",
    "![cw9img8](../assets/Lab2/cw9img8.png)"
   ]
  },
  {
   "cell_type": "markdown",
   "metadata": {},
   "source": [
    "<p>Funkcja główna programu:</p>"
   ]
  },
  {
   "cell_type": "code",
   "execution_count": null,
   "metadata": {},
   "outputs": [],
   "source": [
    "def main():\n",
    "    file_path = read_file()\n",
    "\n",
    "    if file_path:\n",
    "        salt_and_pepper_noise(file_path)\n",
    "    else:\n",
    "        print(\"No file selected\")\n",
    "\n",
    "if __name__ == \"__main__\":\n",
    "    main()"
   ]
  },
  {
   "cell_type": "markdown",
   "metadata": {},
   "source": [
    "# Ćwiczenie 10: Działanie dolnoprzepustowych filtrów uśredniającego i gaussowskiego\n",
    "\n",
    "## Zakres operacji:\n",
    "\n",
    "1. **Działanie filtru uśredniającego:**\n",
    "   - Zbadanie działania dolnoprzepustowego filtra uśredniającego dla danych obrazów: `characters_test_pattern.tif`, `zoneplate.tif`.\n",
    "   - Obserwacja wpływu rozmiaru maski na wynik filtracji.\n",
    "\n",
    "2. **Działanie filtru gaussowskiego:**\n",
    "   - Zbadanie działania dolnoprzepustowego filtra gaussowskiego dla tych samych obrazów.\n",
    "   - Analiza wpływu różnych rozmiarów maski na wynik filtracji.\n",
    "\n",
    "## Funkcjonalności:\n",
    "Program powinien umożliwiać użytkownikowi:\n",
    "   - Wczytanie obrazów: `characters_test_pattern.tif`, `zoneplate.tif`.\n",
    "   - Zastosowanie dolnoprzepustowych filtrów uśredniającego i gaussowskiego.\n",
    "   - Eksperymentowanie z różnymi rozmiarami masek i obserwowanie wpływu na wynik filtracji."
   ]
  },
  {
   "cell_type": "markdown",
   "metadata": {},
   "source": [
    "## Kod programu:"
   ]
  },
  {
   "cell_type": "markdown",
   "metadata": {},
   "source": [
    "<p>Przedstawiony poniżej fragment kodu odpowiada za wczytanie z katalogu obrazu, na którym będą wykonywane dalsze operacje.</p>"
   ]
  },
  {
   "cell_type": "code",
   "execution_count": null,
   "metadata": {},
   "outputs": [],
   "source": [
    "def read_file():\n",
    "    import tkinter.filedialog\n",
    "    import tkinter as tk\n",
    "    window = tk.Tk()\n",
    "    window.wm_attributes('-topmost', 1)\n",
    "    window.withdraw()\n",
    "    file_path = tkinter.filedialog.askopenfilename()\n",
    "\n",
    "    return file_path"
   ]
  },
  {
   "cell_type": "markdown",
   "metadata": {},
   "source": [
    "<p>Dolnoprzepustowy filtr uśredniający:</p>"
   ]
  },
  {
   "cell_type": "code",
   "execution_count": null,
   "metadata": {},
   "outputs": [],
   "source": [
    "def averaging_filter(file_path):\n",
    "    # Open the image from the selected file\n",
    "    image = Image.open(file_path).convert(\"L\")\n",
    "    # Load the image into an array\n",
    "    arr_image = np.asarray(image)\n",
    "\n",
    "    # Averaging filtering\n",
    "    new_image_mask_3x3 = cv2.blur(arr_image, (3, 3))\n",
    "    new_image_mask_9x9 = cv2.blur(arr_image, (9, 9))\n",
    "    new_image_mask_15x15 = cv2.blur(arr_image, (15, 15))\n",
    "\n",
    "    plt.figure(figsize=(15, 10))\n",
    "\n",
    "    plt.subplot(2, 3, 4)\n",
    "    plt.title('Averaging Filter, 3x3')\n",
    "    plt.imshow(new_image_mask_3x3, cmap='gray', vmin=0, vmax=255)\n",
    "\n",
    "    plt.subplot(2, 3, 5)\n",
    "    plt.title('Averaging Filter, 9x9')\n",
    "    plt.imshow(new_image_mask_9x9, cmap='gray', vmin=0, vmax=255)\n",
    "\n",
    "    plt.subplot(2, 3, 6)\n",
    "    plt.title('Averaging Filter, 15x15')\n",
    "    plt.imshow(new_image_mask_15x15, cmap='gray', vmin=0, vmax=255)\n",
    "\n",
    "    plt.suptitle(\"Averaging Filter\", fontsize=16)\n",
    "    plt.show()"
   ]
  },
  {
   "cell_type": "markdown",
   "metadata": {},
   "source": [
    "<p>Filtr uśredniający służy do wygładzania obrazu, redukcji szumów i zmiękczania krawędzi poprzez zamianę wartości każdego piksela na średnią wartość pikseli w jego sąsiedztwie.\n",
    "\n",
    "Działanie filtra:\n",
    "- **Maska 3x3**: Każdy piksel jest zastępowany średnią wartością pikseli w jego najbliższym otoczeniu o wymiarach 3x3.\n",
    "- **Maska 9x9**: Każdy piksel jest zastępowany średnią wartością pikseli w większym otoczeniu o wymiarach 9x9.\n",
    "- **Maska 15x15**: Każdy piksel jest zastępowany średnią wartością pikseli w jeszcze większym otoczeniu o wymiarach 15x15.\n",
    "\n",
    "Efekty po zastosowaniu filtra:\n",
    "- **3x3**: Delikatne wygładzenie, lekka redukcja szumów, nieznaczne rozmycie szczegółów.\n",
    "- **9x9**: Zauważalne wygładzenie, większa redukcja szumów, wyraźniejsze rozmycie szczegółów.\n",
    "- **15x15**: Silne wygładzenie, bardzo duża redukcja szumów, znaczne rozmycie krawędzi i utrata wielu szczegółów.\n",
    "</p>\n",
    "\n",
    "![cw10img1](../assets/Lab2/cw10img1.png)"
   ]
  },
  {
   "cell_type": "markdown",
   "metadata": {},
   "source": [
    "<p>Dolnoprzepustowy filtr Gaussa:</p>"
   ]
  },
  {
   "cell_type": "code",
   "execution_count": null,
   "metadata": {},
   "outputs": [],
   "source": [
    "def gaussian_filter(file_path):\n",
    "    # Open the image from the selected file\n",
    "    image = Image.open(file_path).convert(\"L\")\n",
    "    # Load the image into an array\n",
    "    arr_image = np.asarray(image)\n",
    "\n",
    "    # Gaussian filtering\n",
    "    new_image_mask_3x3 = cv2.GaussianBlur(arr_image, (3, 3), 0)\n",
    "    new_image_mask_9x9 = cv2.GaussianBlur(arr_image, (9, 9), 0)\n",
    "    new_image_mask_15x15 = cv2.GaussianBlur(arr_image, (15, 15), 0)\n",
    "\n",
    "    plt.figure(figsize=(15, 10))\n",
    "\n",
    "    plt.subplot(2, 3, 4)\n",
    "    plt.title(' Gaussian Filter, 3x3')\n",
    "    plt.imshow(new_image_mask_3x3, cmap='gray', vmin=0, vmax=255)\n",
    "\n",
    "    plt.subplot(2, 3, 5)\n",
    "    plt.title('Gaussian Filter, 9x9')\n",
    "    plt.imshow(new_image_mask_9x9, cmap='gray', vmin=0, vmax=255)\n",
    "\n",
    "    plt.subplot(2, 3, 6)\n",
    "    plt.title('\"Gaussian Filter, 15x15')\n",
    "    plt.imshow(new_image_mask_15x15, cmap='gray', vmin=0, vmax=255)\n",
    "\n",
    "    plt.suptitle(\"Gaussian Filter\", fontsize=16)\n",
    "    plt.show()"
   ]
  },
  {
   "cell_type": "markdown",
   "metadata": {},
   "source": [
    "<p>Cel zastosowania filtra:\n",
    "Filtr Gaussa jest używany do wygładzania obrazu, redukcji szumów oraz zmiękczania krawędzi, ale w sposób bardziej naturalny w porównaniu do filtra uśredniającego, dzięki zastosowaniu funkcji Gaussa do obliczania wag pikseli w sąsiedztwie.\n",
    "\n",
    "Działanie filtra:\n",
    "- **Maska 3x3**: Każdy piksel jest zastępowany wartością, która jest średnią ważoną pikseli w jego najbliższym otoczeniu o wymiarach 3x3, z wagami określonymi przez funkcję Gaussa.\n",
    "- **Maska 9x9**: Każdy piksel jest zastępowany wartością, która jest średnią ważoną pikseli w większym otoczeniu o wymiarach 9x9, z wagami określonymi przez funkcję Gaussa.\n",
    "- **Maska 15x15**: Każdy piksel jest zastępowany wartością, która jest średnią ważoną pikseli w jeszcze większym otoczeniu o wymiarach 15x15, z wagami określonymi przez funkcję Gaussa.\n",
    "\n",
    "Efekty po zastosowaniu filtra:\n",
    "- **3x3**: Subtelne wygładzenie, redukcja szumów, minimalne rozmycie szczegółów.\n",
    "- **9x9**: Wyraźniejsze wygładzenie, większa redukcja szumów, bardziej zauważalne rozmycie szczegółów.\n",
    "- **15x15**: Silne wygładzenie, bardzo duża redukcja szumów, znaczne rozmycie krawędzi i utrata wielu szczegółów, podobnie jak w przypadku filtra uśredniającego, ale z bardziej naturalnym efektem.</p>\n",
    "\n",
    "![cw10img2](../assets/Lab2/cw10img2.png)"
   ]
  },
  {
   "cell_type": "markdown",
   "metadata": {},
   "source": [
    "<p>Funkcja główna programu:</p>"
   ]
  },
  {
   "cell_type": "code",
   "execution_count": null,
   "metadata": {},
   "outputs": [],
   "source": [
    "def main():\n",
    "    file_path = read_file()\n",
    "\n",
    "    if file_path:\n",
    "        print(\"Choose an option:\")\n",
    "        print(\"[1] Averaging Filter\")\n",
    "        print(\"[2] Gaussian Filter\")\n",
    "\n",
    "        choice = int(input(\"Your choice: \"))\n",
    "\n",
    "        if choice == 1:\n",
    "            averaging_filter(file_path)\n",
    "        elif choice == 2:\n",
    "            gaussian_filter(file_path)\n",
    "        else:\n",
    "            print(\"Invalid choice\")\n",
    "    else:\n",
    "        print(\"No file selected\")\n",
    "\n",
    "if __name__ == \"__main__\":\n",
    "    main()\n"
   ]
  },
  {
   "cell_type": "markdown",
   "metadata": {},
   "source": [
    "# Ćwiczenie 11: Wykrywanie krawędzi obiektów i poprawa ostrości\n",
    "\n",
    "## Zakres operacji:\n",
    "\n",
    "1. **Wykrywanie krawędzi za pomocą maski Sobela:**\n",
    "   - Zastosowanie filtra z maską Sobela do wykrywania krawędzi poziomych, pionowych i ukośnych.\n",
    "   - Wykorzystanie obrazów: `circuitmask.tif`, `testpat1.png`.\n",
    "   \n",
    "2. **Działanie Laplasjanu do wyostrzania szczegółów:**\n",
    "   - Zaobserwowanie działania operatora Laplasjanu do wyostrzania szczegółów.\n",
    "   - Wykorzystanie obrazu: `blurry-moon.tif`.\n",
    "   \n",
    "3. **Zastosowanie filtrów typu \"unsharp masking\" i \"high boost\":**\n",
    "   - Zbadanie działania filtrów typu \"unsharp masking\" i \"high boost\" w celu poprawy ostrości obrazu.\n",
    "   - Wykorzystanie obrazu: `text-dipxe-blurred.tif`.\n",
    "\n",
    "## Funkcjonalności:\n",
    "Program powinien umożliwiać użytkownikowi:\n",
    "   - Wykorzystanie filtra Sobela do wykrywania krawędzi na obrazach.\n",
    "   - Zaobserwowanie efektów działania operatora Laplasjanu w celu wyostrzania szczegółów.\n",
    "   - Zbadanie efektów filtrów \"unsharp masking\" i \"high boost\" w poprawie ostrości obrazu."
   ]
  },
  {
   "cell_type": "markdown",
   "metadata": {},
   "source": [
    "## Kod programu:"
   ]
  },
  {
   "cell_type": "markdown",
   "metadata": {},
   "source": [
    "<p>Przedstawiony poniżej fragment kodu odpowiada za wczytanie z katalogu obrazu, na którym będą wykonywane dalsze operacje.</p>"
   ]
  },
  {
   "cell_type": "code",
   "execution_count": null,
   "metadata": {},
   "outputs": [],
   "source": [
    "def read_file():\n",
    "    import tkinter.filedialog\n",
    "    import tkinter as tk\n",
    "    window = tk.Tk()\n",
    "    window.wm_attributes('-topmost', 1)\n",
    "    window.withdraw()\n",
    "    file_path = tkinter.filedialog.askopenfilename()\n",
    "\n",
    "    return file_path"
   ]
  },
  {
   "cell_type": "markdown",
   "metadata": {},
   "source": [
    "<p>Filtr Sobela:</p>"
   ]
  },
  {
   "cell_type": "code",
   "execution_count": null,
   "metadata": {},
   "outputs": [],
   "source": [
    "def sobel_mask_filter(file_path):\n",
    "    # Open the image from the selected file\n",
    "    image = Image.open(file_path).convert(\"L\")\n",
    "    # Load the image into an array\n",
    "    arr_image = np.asarray(image)\n",
    "\n",
    "    # Edge detection\n",
    "    sobel_x = cv.Sobel(arr_image, -1, 1, 0, ksize=3)\n",
    "    sobel_y = cv.Sobel(arr_image, -1, 0, 1, ksize=3)\n",
    "\n",
    "    plt.figure(figsize=(15, 10))\n",
    "\n",
    "    plt.subplot(1, 3, 1)\n",
    "    plt.title('Image')\n",
    "    plt.imshow(arr_image, cmap='gray', vmin=0, vmax=255)\n",
    "\n",
    "    plt.subplot(1, 3, 2)\n",
    "    plt.title('Sobel X')\n",
    "    plt.imshow(sobel_x, cmap='gray', vmin=0, vmax=255)\n",
    "\n",
    "    plt.subplot(1, 3, 3)\n",
    "    plt.title('Sobel Y')\n",
    "    plt.imshow(sobel_y, cmap='gray', vmin=0, vmax=255)\n",
    "    plt.show()"
   ]
  },
  {
   "cell_type": "markdown",
   "metadata": {},
   "source": [
    "<p>Poniżej znajduje się opis trzech obrazów, na których zastosowano różne techniki przetwarzania obrazu:\n",
    "\n",
    "1. **Oryginalny Obraz**:\n",
    "    - **Charakterystyka**: Przedstawia symetryczny wzór składający się z białego prostokąta w centrum, otoczonego promieniście rozchodzącymi się białymi elementami na czarnym tle.\n",
    "    - **Cel**: Oryginalny obraz służy jako baza do porównania efektów zastosowania filtrów Sobela. Wyraźne kontrasty między jasnymi i ciemnymi obszarami ułatwiają analizę krawędzi.\n",
    "\n",
    "2. **Filtr Sobela w osi X (Sobel X)**:\n",
    "    - **Cel**: Wykrywanie krawędzi pionowych w obrazie.\n",
    "    - **Działanie**: Filtr Sobela w osi X analizuje zmiany jasności w kierunku poziomym. W rezultacie, pionowe krawędzie jasnych elementów na ciemnym tle są wyraźnie zaznaczone.\n",
    "    - **Efekt**: Na obrazie można zauważyć wyraźne krawędzie pionowe elementów centralnych oraz promieniście rozchodzących się struktur, co pozwala na identyfikację pionowych linii w oryginalnym obrazie.\n",
    "\n",
    "3. **Filtr Sobela w osi Y (Sobel Y)**:\n",
    "    - **Cel**: Wykrywanie krawędzi poziomych w obrazie.\n",
    "    - **Działanie**: Filtr Sobela w osi Y analizuje zmiany jasności w kierunku pionowym. W efekcie, poziome krawędzie jasnych elementów na ciemnym tle są wyraźnie zaznaczone.\n",
    "    - **Efekt**: Na obrazie można zauważyć wyraźne krawędzie poziome elementów centralnych oraz promieniście rozchodzących się struktur, co pozwala na identyfikację poziomych linii w oryginalnym obrazie.\n",
    "\n",
    "Analiza oryginalnego obrazu za pomocą filtrów Sobela w osiach X i Y pozwala na skuteczne wykrywanie krawędzi pionowych i poziomych. Oryginalny obraz z wyraźnymi kontrastami umożliwia łatwe uwydatnienie krawędzi za pomocą tych filtrów. Wyniki działania filtrów Sobela mogą być użyteczne w różnych aplikacjach, takich jak analiza kształtów, rozpoznawanie tekstu i przetwarzanie obrazu w ogólnym sensie. </p>\n",
    "\n",
    "![cw11img1](../assets/Lab2/cw11img1.png)"
   ]
  },
  {
   "cell_type": "markdown",
   "metadata": {},
   "source": [
    "<p>Laplasjan:</p>"
   ]
  },
  {
   "cell_type": "code",
   "execution_count": null,
   "metadata": {},
   "outputs": [],
   "source": [
    "def laplacian(file_path):\n",
    "    # Open the image from the selected file\n",
    "    image = Image.open(file_path).convert(\"L\")\n",
    "    # Load the image into an array\n",
    "    arr_image = np.asarray(image)\n",
    "\n",
    "    laplac3 = cv.Laplacian(arr_image, -1, ksize=3)\n",
    "    laplac5 = cv.Laplacian(arr_image, -1, ksize=5)\n",
    "    laplac11 = cv.Laplacian(arr_image, -1, ksize=11)\n",
    "\n",
    "    plt.figure(figsize=(15, 10))\n",
    "\n",
    "    plt.subplot(2, 2, 1)\n",
    "    plt.title('Image')\n",
    "    plt.imshow(arr_image, cmap='gray', vmin=0, vmax=255)\n",
    "\n",
    "    plt.subplot(2, 2, 2)\n",
    "    plt.title('3x3 Mask')\n",
    "    plt.imshow(laplac3, cmap='gray', vmin=0, vmax=255)\n",
    "\n",
    "    plt.subplot(2, 2, 3)\n",
    "    plt.title('5x5 Mask')\n",
    "    plt.imshow(laplac5, cmap='gray', vmin=0, vmax=255)\n",
    "\n",
    "    plt.subplot(2, 2, 4)\n",
    "    plt.title('11x11 Mask')\n",
    "    plt.imshow(laplac11, cmap='gray', vmin=0, vmax=255)\n",
    "    plt.show()"
   ]
  },
  {
   "cell_type": "markdown",
   "metadata": {},
   "source": [
    "<p>Poniżej przedstawiono rezultat wywyłania powyższego kodu. Przedstawia on obraz oryginalny testowy oraz obraz po zastosowaniu Laplasjanu z kwadratowymi maskami 3x3, 5x5, 11x11.\n",
    "\n",
    "**Oryginalny Obraz**:\n",
    "    - **Charakterystyka**: Przedstawia księżyc z zaciemnioną jedną półkulą.\n",
    "    - **Cel**: Oryginalny obraz służy jako baza do porównania efektów zastosowania różnych filtrów. Wyraźne kontrasty między jasnymi i ciemnymi obszarami ułatwiają analizę efektów filtracji.\n",
    "\n",
    "**Filtr Laplacian**:\n",
    "    - **Cel**: Wykrywanie krawędzi w obrazie poprzez analizę zmian intensywności w obu kierunkach (X i Y).\n",
    "    - **Działanie**: Filtr Laplacian wykrywa miejsca, gdzie zmiany intensywności są największe, czyli krawędzie obiektów. Zastosowanie różnych rozmiarów masek (3x3, 5x5, 11x11) pozwala na analizę krawędzi z różną szczegółowością.\n",
    "    - **Efekty**:\n",
    "        - **Maska 3x3**: Wykrywa krawędzie z dużą precyzją, uwydatniając szczegóły.\n",
    "        - **Maska 5x5**: Zmniejsza szumy, nadal zachowując wyraźne krawędzie.\n",
    "        - **Maska 11x11**: Uwydatnia większe struktury krawędzi, wygładzając drobne detale.</p>\n",
    "\n",
    "![cw11img2](../assets/Lab2/cw11img2.png)"
   ]
  },
  {
   "cell_type": "markdown",
   "metadata": {},
   "source": [
    "<p>Unsharp Masking:</p>"
   ]
  },
  {
   "cell_type": "code",
   "execution_count": null,
   "metadata": {},
   "outputs": [],
   "source": [
    "def unsharp_masking(file_path):\n",
    "    # Open the image from the selected file\n",
    "    image = Image.open(file_path).convert(\"L\")\n",
    "    # Load the image into an array\n",
    "    arr_image = np.asarray(image)\n",
    "\n",
    "    # Applying unsharp masking\n",
    "    blurred = cv.GaussianBlur(arr_image, (5, 5), 10.0)\n",
    "    sharpened = cv.addWeighted(arr_image, 1.5, blurred, -0.5, 0)\n",
    "\n",
    "    plt.figure(figsize=(15, 10))\n",
    "\n",
    "    plt.subplot(1, 2, 1)\n",
    "    plt.title('Image')\n",
    "    plt.imshow(arr_image, cmap='gray', vmin=0, vmax=255)\n",
    "\n",
    "    plt.subplot(1, 2, 2)\n",
    "    plt.title('Unsharp Masking')\n",
    "    plt.imshow(sharpened, cmap='gray', vmin=0, vmax=255)\n",
    "    plt.show()"
   ]
  },
  {
   "cell_type": "markdown",
   "metadata": {},
   "source": [
    "<p>Poniżej przedstawiono rezultat wywyłania powyższego kodu. Przedstawia on obraz oryginalny testowy oraz obraz po zastosowaniu filtra Unsharp Masking. \n",
    "\n",
    "**Oryginalny Obraz**:\n",
    "    - **Charakterystyka**: Przedstawia symetryczny ciemny napis z lekko rozmazanymi krawedziami na białym tle.\n",
    "    - **Cel**: Oryginalny obraz służy jako baza do porównania efektów zastosowania różnych filtrów. Wyraźne kontrasty między jasnymi i ciemnymi obszarami ułatwiają analizę efektów filtracji.\n",
    "      \n",
    "**Filtr Unsharp Masking**:\n",
    "    - **Cel**: Poprawa ostrości obrazu poprzez zwiększenie kontrastu wokół krawędzi.\n",
    "    - **Działanie**: Technika polega na odjęciu rozmytego obrazu od oryginału i dodaniu wyniku do oryginału, co powoduje uwydatnienie krawędzi. Filtr Unsharp Masking zwiększa kontrast wokół krawędzi, co sprawia, że obraz wydaje się bardziej wyostrzony.\n",
    "    - **Efekt**: Obraz po zastosowaniu filtra Unsharp Masking jest bardziej wyrazisty i szczegółowy, krawędzie są wyraźniejsze, co poprawia percepcję szczegółów w obrazie.</p>\n",
    "\n",
    "![cw11img3](../assets/Lab2/cw11img3.png)"
   ]
  },
  {
   "cell_type": "markdown",
   "metadata": {},
   "source": [
    "<p>High Boost:</p>"
   ]
  },
  {
   "cell_type": "code",
   "execution_count": null,
   "metadata": {},
   "outputs": [],
   "source": [
    "def high_boost(file_path):\n",
    "    # Open the image from the selected file\n",
    "    image = Image.open(file_path).convert(\"L\")\n",
    "    # Load the image into an array\n",
    "    arr_image = np.asarray(image)\n",
    "\n",
    "    # Applying high boost filter\n",
    "    blurred = cv.GaussianBlur(arr_image, (5, 5), 10.0)\n",
    "    high_boost = cv.addWeighted(arr_image, 1.5, blurred, -0.5, 0)\n",
    "\n",
    "    plt.figure(figsize=(15, 10))\n",
    "\n",
    "    plt.subplot(1, 2, 1)\n",
    "    plt.title('Image')\n",
    "    plt.imshow(arr_image, cmap='gray', vmin=0, vmax=255)\n",
    "\n",
    "    plt.subplot(1, 2, 2)\n",
    "    plt.title('High Boost')\n",
    "    plt.imshow(high_boost, cmap='gray', vmin=0, vmax=255)\n",
    "    plt.show()"
   ]
  },
  {
   "cell_type": "markdown",
   "metadata": {},
   "source": [
    "<p>Poniżej przedstawiono rezultat wywyłania powyższego kodu. Przedstawia on obraz oryginalny testowy oraz obraz po zastosowaniu filtra High Boost.\n",
    "\n",
    "**Oryginalny Obraz**:\n",
    "    - **Charakterystyka**: Przedstawia symetryczny ciemny napis z lekko rozmazanymi krawedziami na białym tle.\n",
    "    - **Cel**: Oryginalny obraz służy jako baza do porównania efektów zastosowania różnych filtrów. Wyraźne kontrasty między jasnymi i ciemnymi obszarami ułatwiają analizę efektów filtracji.\n",
    "\n",
    "**Filtr High Boost**:\n",
    "    - **Cel**: Wyostrzenie obrazu z jeszcze większą intensywnością niż Unsharp Masking.\n",
    "    - **Działanie**: Metoda High Boost jest rozszerzeniem techniki Unsharp Masking, gdzie do obrazu dodaje się wzmocnioną wersję maski wysokich częstotliwości. To pozwala na jeszcze bardziej wyraziste uwydatnienie krawędzi i detali.\n",
    "    - **Efekt**: Obraz po zastosowaniu filtra High Boost ma bardzo wyraźne krawędzie, a detale są jeszcze bardziej uwydatnione w porównaniu z Unsharp Masking. Jest to szczególnie użyteczne w sytuacjach, gdzie wymagane jest maksymalne wyostrzenie obrazu.</p>\n",
    "\n",
    "![cw11img4](../assets/Lab2/cw11img4.png)"
   ]
  },
  {
   "cell_type": "markdown",
   "metadata": {},
   "source": [
    "<p>Funkcja główna programu:</p>"
   ]
  },
  {
   "cell_type": "code",
   "execution_count": null,
   "metadata": {},
   "outputs": [],
   "source": [
    "def main():\n",
    "    file_path = read_file()\n",
    "\n",
    "    if file_path:\n",
    "        print(\"Choose an option:\")\n",
    "        print(\"[1] Sobel Mask Filter\")\n",
    "        print(\"[2] Laplacian\")\n",
    "        print(\"[3] Unsharp Masking\")\n",
    "        print(\"[4] High Boost\")\n",
    "\n",
    "        choice = int(input(\"Your choice: \"))\n",
    "\n",
    "        if choice == 1:\n",
    "            sobel_mask_filter(file_path)\n",
    "        elif choice == 2:\n",
    "            laplacian(file_path)\n",
    "        elif choice == 3:\n",
    "            unsharp_masking(file_path)\n",
    "        elif choice == 4:\n",
    "            high_boost(file_path)\n",
    "        else:\n",
    "            print(\"Invalid choice\")\n",
    "    else:\n",
    "        print(\"No file selected\")\n",
    "\n",
    "if __name__ == \"__main__\":\n",
    "    main()"
   ]
  },
  {
   "cell_type": "markdown",
   "metadata": {},
   "source": [
    "# Ćwiczenie 12: Poprawa jakości obrazu za pomocą złożonych przekształceń\n",
    "\n",
    "## Zakres operacji:\n",
    "\n",
    "1. **Wygładzanie Gaussowskie:**\n",
    "   - Zastosowanie wygładzania Gaussowskiego w celu redukcji szumów.\n",
    "\n",
    "2. **Operator Laplasjanu:**\n",
    "   - Wykorzystanie operatora Laplasjanu do wydobycia krawędzi.\n",
    "\n",
    "3. **Dodanie Laplasjanu do obrazu oryginalnego:**\n",
    "   - Dodanie obrazu Laplasjanu do obrazu oryginalnego w celu wzmocnienia krawędzi."
   ]
  },
  {
   "cell_type": "markdown",
   "metadata": {},
   "source": [
    "## Kod programu:"
   ]
  },
  {
   "cell_type": "markdown",
   "metadata": {},
   "source": [
    "<p>Przedstawiony poniżej fragment kodu odpowiada za wczytanie z katalogu obrazu, na którym będą wykonywane dalsze operacje.</p>"
   ]
  },
  {
   "cell_type": "code",
   "execution_count": null,
   "metadata": {},
   "outputs": [],
   "source": [
    "def read_file():\n",
    "    import tkinter.filedialog\n",
    "    import tkinter as tk\n",
    "\n",
    "    window = tk.Tk()\n",
    "    window.wm_attributes('-topmost', 1)\n",
    "    window.withdraw()\n",
    "    file_path = tkinter.filedialog.askopenfilename()\n",
    "\n",
    "    return file_path"
   ]
  },
  {
   "cell_type": "markdown",
   "metadata": {},
   "source": [
    "<p>Wieloetapowa poprawa jakości składająca się z filtrów - Gaussa, Laplasjanu oraz dodania Laplasjanu do obrazu oryginalnego</p>"
   ]
  },
  {
   "cell_type": "code",
   "execution_count": null,
   "metadata": {},
   "outputs": [],
   "source": [
    "def spatial_filtering(image):\n",
    "    # Step 1: Gaussian Smoothing\n",
    "    kernel_size = 5\n",
    "    smoothed_image = cv2.GaussianBlur(image, (kernel_size, kernel_size), 0)\n",
    "\n",
    "    # Step 2: Laplacian Operator\n",
    "    laplacian_image = cv2.Laplacian(smoothed_image, cv2.CV_64F)\n",
    "    \n",
    "    # Convert Laplacian image to uint8\n",
    "    laplacian_image = np.uint8(np.absolute(laplacian_image))\n",
    "\n",
    "    # Step 3: Add Laplacian to the Original Image\n",
    "    enhanced_image = cv2.addWeighted(image, 1.0, laplacian_image, 1.0, 0.0)\n",
    "\n",
    "    # Display original and enhanced images\n",
    "    plt.figure(figsize=(12, 6))\n",
    "\n",
    "    plt.subplot(1, 2, 1)\n",
    "    plt.imshow(image, cmap='gray')\n",
    "    plt.title('Original Image')\n",
    "\n",
    "    plt.subplot(1, 2, 2)\n",
    "    plt.imshow(enhanced_image, cmap='gray')\n",
    "    plt.title('Enhanced Image')\n",
    "\n",
    "    plt.show()"
   ]
  },
  {
   "cell_type": "markdown",
   "metadata": {},
   "source": [
    "<p>Poniżej przedstawiono rezultat wywyłania powyższego kodu. Przedstawia on obraz oryginalny testowy oraz obraz po zastosowaniu wieloetapowego procesu poprawy jakości.\n",
    "\n",
    "**Gaussian Smoothing**:\n",
    "   - **Cel**: Wygładzenie obrazu w celu redukcji szumu.\n",
    "   - **Operacja**: Zastosowanie filtra Gaussa o rozmiarze jądra 5x5.\n",
    "   - **Rezultat**: Wygładzony obraz (`smoothed_image`).\n",
    "\n",
    "**Laplacian Operator**:\n",
    "   - **Cel**: Wykrywanie krawędzi w wygładzonym obrazie.\n",
    "   - **Operacja**: Zastosowanie operatora Laplace'a.\n",
    "   - **Rezultat**: Obraz krawędzi (`laplacian_image`), który jest następnie przekształcony do formatu `uint8` dla poprawnego wyświetlania.\n",
    "\n",
    "**Dodanie obrazu Laplace'a do oryginalnego obrazu**:\n",
    "   - **Cel**: Wzmocnienie krawędzi w oryginalnym obrazie.\n",
    "   - **Operacja**: Połączenie oryginalnego obrazu z obrazem krawędzi za pomocą funkcji `addWeighted`.\n",
    "   - **Rezultat**: Zwiększony obraz (`enhanced_image`), który zawiera wyostrzone krawędzie.\n",
    "\n",
    "Obraz Oryginalny\n",
    "- **Opis**: Obraz w odcieniach szarości, który jest wczytywany i wyświetlany bez żadnych modyfikacji.\n",
    "- **Cel**: Służy jako punkt odniesienia do porównania z obrazem przetworzonym.\n",
    "\n",
    "Obraz Wzmocniony\n",
    "- **Opis**: Obraz powstały po zastosowaniu filtra wygładzającego Gaussa, operatora Laplace'a oraz dodaniu obrazu krawędzi do oryginalnego obrazu.\n",
    "- **Rezultat**:\n",
    "  - **Wyostrzone krawędzie**: Krawędzie w obrazie są wyraźniej zaznaczone, co nadaje obrazowi większą ostrość.\n",
    "  - **Zredukowany szum**: Dzięki wygładzaniu, szum w obrazie jest zmniejszony, co poprawia jego jakość.\n",
    "</p>\n",
    "\n",
    "![cw12img1](../assets/Lab2/cw12img1.png)"
   ]
  },
  {
   "cell_type": "markdown",
   "metadata": {},
   "source": [
    "<p>Funkcja główna programu:</p>"
   ]
  },
  {
   "cell_type": "code",
   "execution_count": null,
   "metadata": {},
   "outputs": [],
   "source": [
    "def main():\n",
    "    file_path = read_file()\n",
    "\n",
    "    if file_path:\n",
    "        image = cv2.imread(file_path, cv2.IMREAD_GRAYSCALE)\n",
    "        spatial_filtering(image)\n",
    "    else:\n",
    "        print(\"No file selected\")\n",
    "\n",
    "if __name__ == \"__main__\":\n",
    "    main()\n"
   ]
  }
 ],
 "metadata": {
  "kernelspec": {
   "display_name": "cpsio",
   "language": "python",
   "name": "python3"
  },
  "language_info": {
   "codemirror_mode": {
    "name": "ipython",
    "version": 3
   },
   "file_extension": ".py",
   "mimetype": "text/x-python",
   "name": "python",
   "nbconvert_exporter": "python",
   "pygments_lexer": "ipython3",
   "version": "3.12.3"
  },
  "orig_nbformat": 4
 },
 "nbformat": 4,
 "nbformat_minor": 2
}
